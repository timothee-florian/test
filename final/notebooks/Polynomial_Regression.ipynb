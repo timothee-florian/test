{
 "cells": [
  {
   "cell_type": "code",
   "execution_count": 1,
   "metadata": {},
   "outputs": [],
   "source": [
    "import matplotlib.pyplot as plt\n",
    "import numpy as np\n",
    "from proj1_helpers import *\n",
    "from functions_for_polynomial import *\n",
    "from evaluation_function import *\n",
    "from functions import *"
   ]
  },
  {
   "cell_type": "code",
   "execution_count": 2,
   "metadata": {},
   "outputs": [],
   "source": [
    "y, x, ids = load_csv_data('train.csv')\n",
    "y_te, test, ids_te = load_csv_data('test.csv', sub_sample=False)"
   ]
  },
  {
   "cell_type": "code",
   "execution_count": 3,
   "metadata": {},
   "outputs": [
    {
     "data": {
      "image/png": "[encoded data removed]",
      "text/plain": [
       "<Figure size 432x288 with 1 Axes>"
      ]
     },
     "metadata": {
      "needs_background": "light"
     },
     "output_type": "display_data"
    }
   ],
   "source": [
    "#example of biased variation decompostion for feature 2\n",
    "degrees=range(1,20)\n",
    "rmse_tr,rmse_te=bias_variance_demo_poly(x[:,2],y,0.8,degrees)\n",
    "bias_variance_decomposition_visualization(degrees,rmse_tr,rmse_te)"
   ]
  },
  {
   "cell_type": "code",
   "execution_count": 4,
   "metadata": {},
   "outputs": [
    {
     "name": "stdout",
     "output_type": "stream",
     "text": [
      "for feature:  0 the best degree is:, 14\n",
      "for feature:  1 the best degree is:, 11\n",
      "for feature:  2 the best degree is:, 10\n",
      "for feature:  3 the best degree is:, 7\n",
      "for feature:  4 the best degree is:, 9\n",
      "for feature:  5 the best degree is:, 12\n",
      "for feature:  6 the best degree is:, 7\n",
      "for feature:  7 the best degree is:, 12\n",
      "for feature:  8 the best degree is:, 8\n",
      "for feature:  9 the best degree is:, 11\n",
      "for feature:  10 the best degree is:, 11\n",
      "for feature:  11 the best degree is:, 19\n",
      "for feature:  12 the best degree is:, 3\n",
      "for feature:  13 the best degree is:, 2\n",
      "for feature:  14 the best degree is:, 8\n",
      "for feature:  15 the best degree is:, 3\n",
      "for feature:  16 the best degree is:, 9\n",
      "for feature:  17 the best degree is:, 2\n",
      "for feature:  18 the best degree is:, 2\n",
      "for feature:  19 the best degree is:, 5\n",
      "for feature:  20 the best degree is:, 3\n",
      "for feature:  21 the best degree is:, 15\n",
      "for feature:  22 the best degree is:, 11\n",
      "for feature:  23 the best degree is:, 9\n",
      "for feature:  24 the best degree is:, 3\n",
      "for feature:  25 the best degree is:, 2\n",
      "for feature:  26 the best degree is:, 6\n",
      "for feature:  27 the best degree is:, 8\n",
      "for feature:  28 the best degree is:, 2\n",
      "for feature:  29 the best degree is:, 11\n"
     ]
    }
   ],
   "source": [
    "degrees=range(1,20)\n",
    "list_degrees=release_best_degree_by_feature(x,y,0.8,degrees)"
   ]
  },
  {
   "cell_type": "code",
   "execution_count": 5,
   "metadata": {},
   "outputs": [
    {
     "name": "stdout",
     "output_type": "stream",
     "text": [
      "feature , Boson (-1) , Others (+1) , Global evaluation\n",
      "feature 0 , 0.7829180567139282 , 0.6844864431681581 , 0.7492285714285715\n",
      "feature 1 , 0.7671583958854601 , 0.5634099105115533 , 0.6974228571428571\n",
      "feature 2 , 0.8977880872949681 , 0.2525210364632029 , 0.6769371428571429\n",
      "feature 3 , 0.9205848623853211 , 0.1783257646587418 , 0.6665371428571428\n",
      "feature 4 , 0.9662566027244927 , 0.16441832509683452 , 0.6918171428571429\n",
      "feature 5 , 0.9611047400611621 , 0.16411780419393615 , 0.6883257142857143\n",
      "feature 6 , 0.962086460939672 , 0.16879257379457727 , 0.6905714285714286\n",
      "feature 7 , 0.9999565610230747 , 1.6695605716575396e-05 , 0.6577142857142857\n",
      "feature 8 , 1.0 , 0.0 , 0.6577371428571429\n",
      "feature 9 , 0.999791492910759 , 0.00013356484573260317 , 0.6576457142857143\n",
      "feature 10 , 0.884261189880456 , 0.31078870041405104 , 0.6879828571428571\n",
      "feature 11 , 0.8164616346955796 , 0.3992921063176172 , 0.67368\n",
      "feature 12 , 0.9294116624965248 , 0.22099973287030852 , 0.6869485714285715\n",
      "feature 13 , 0.9094557964970809 , 0.21392079604648057 , 0.6714\n",
      "feature 14 , 1.0 , 0.0 , 0.6577371428571429\n",
      "feature 15 , 1.0 , 0.0 , 0.6577371428571429\n",
      "feature 16 , 0.9999739366138448 , 0.0 , 0.65772\n",
      "feature 17 , 1.0 , 0.0 , 0.6577371428571429\n",
      "feature 18 , 1.0 , 0.0 , 0.6577371428571429\n",
      "feature 19 , 0.953216221851543 , 0.09698477360758648 , 0.66016\n",
      "feature 20 , 1.0 , 0.0 , 0.6577371428571429\n",
      "feature 21 , 0.9999565610230747 , 0.0 , 0.6577085714285714\n",
      "feature 22 , 0.8504830414234084 , 0.3009549886469881 , 0.6624\n",
      "feature 23 , 0.9984970113983875 , 0.0030386002404167224 , 0.6577885714285714\n",
      "feature 24 , 0.9461009174311926 , 0.13363162815546947 , 0.6680228571428571\n",
      "feature 25 , 1.0 , 0.0 , 0.6577371428571429\n",
      "feature 26 , 1.0 , 0.0 , 0.6577371428571429\n",
      "feature 27 , 0.9536592994161801 , 0.13680379324161882 , 0.67408\n",
      "feature 28 , 1.0 , 0.0 , 0.6577371428571429\n",
      "feature 29 , 1.0 , 0.0 , 0.6577371428571429\n"
     ]
    }
   ],
   "source": [
    "the_best_features=evaluation_all_polynomial_regression(x,y,list_degrees)"
   ]
  },
  {
   "cell_type": "code",
   "execution_count": 6,
   "metadata": {},
   "outputs": [
    {
     "name": "stdout",
     "output_type": "stream",
     "text": [
      "[0, 1, 10]\n",
      "(0.5227895018031254, 0.9009070058381985)\n",
      "0.7714914285714286\n",
      "[0, 1, 11]\n",
      "(0.5720248430613063, 0.8424468306922436)\n",
      "0.7498914285714285\n",
      "[0, 1, 22]\n",
      "(0.5322559102444236, 0.8837746733388935)\n",
      "0.7634628571428571\n",
      "[0, 10, 11]\n",
      "(0.45981367704020304, 0.9125920906310815)\n",
      "0.7576228571428572\n",
      "[0, 10, 22]\n",
      "(0.40665486843862697, 0.9275872254656659)\n",
      "0.7492914285714286\n",
      "[0, 11, 22]\n",
      "(0.42899358888740485, 0.8960939671948847)\n",
      "0.7362228571428572\n",
      "[1, 10, 11]\n",
      "(0.42507012154400964, 0.8561996107867668)\n",
      "0.70864\n",
      "[1, 10, 22]\n",
      "(0.36396420462134366, 0.891115860439255)\n",
      "0.7106914285714285\n",
      "[1, 11, 22]\n",
      "(0.3895251769734206, 0.8486325410063942)\n",
      "0.6914971428571428\n",
      "[10, 11, 22]\n",
      "(0.2806030452784827, 0.9134174311926605)\n",
      "0.6968285714285715\n"
     ]
    }
   ],
   "source": [
    "best_combi=test_combinations(the_best_features,x,y,list_degrees)"
   ]
  },
  {
   "cell_type": "code",
   "execution_count": 7,
   "metadata": {},
   "outputs": [],
   "source": [
    "best_combi=[0,1,10]"
   ]
  },
  {
   "cell_type": "code",
   "execution_count": 8,
   "metadata": {},
   "outputs": [],
   "source": [
    "#final prediction\n",
    "final =final_prediction(x,y,test,best_combi,list_degrees)\n",
    "create_csv_submission(ids_te, final, 'prediction.csv')"
   ]
  }
 ],
 "metadata": {
  "kernelspec": {
   "display_name": "Python 3",
   "language": "python",
   "name": "python3"
  },
  "language_info": {
   "codemirror_mode": {
    "name": "ipython",
    "version": 3
   },
   "file_extension": ".py",
   "mimetype": "text/x-python",
   "name": "python",
   "nbconvert_exporter": "python",
   "pygments_lexer": "ipython3",
   "version": "3.6.4"
  }
 },
 "nbformat": 4,
 "nbformat_minor": 2
}
