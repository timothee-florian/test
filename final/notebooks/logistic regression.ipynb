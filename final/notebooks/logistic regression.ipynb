{
 "cells": [
  {
   "cell_type": "code",
   "execution_count": 1,
   "metadata": {},
   "outputs": [],
   "source": [
    "import numpy as np\n",
    "import matplotlib.pyplot as plt\n",
    "\n",
    "from proj1_helpers import *\n",
    "from functions import *\n",
    "\n",
    "y, x, ids = load_csv_data('train.csv')"
   ]
  },
  {
   "cell_type": "code",
   "execution_count": 2,
   "metadata": {},
   "outputs": [],
   "source": [
    "columns_to_keep = [0,1,2,3,4,5,6,10,11,12,13,22,24]\n",
    "x1 = x[:, columns_to_keep]\n",
    "y1=y\n",
    "#remove -999 and put them clos to the rest of the data\n",
    "min_ = x1[x1!=-999].min()-1\n",
    "x1[x1<=-998]= min_\n"
   ]
  },
  {
   "cell_type": "code",
   "execution_count": 3,
   "metadata": {},
   "outputs": [
    {
     "name": "stdout",
     "output_type": "stream",
     "text": [
      "8 % of the data was removed\n"
     ]
    }
   ],
   "source": [
    "# remove outliers\n",
    "x1 = x1\n",
    "y1 = y1\n",
    "threshold = []\n",
    "for i in range(x1.shape[1]):\n",
    "    # get value of each column of the 99 percentile\n",
    "    threshold += [np.percentile(x1[:,i], 99)]\n",
    "for i in range(x1.shape[1]):\n",
    "    y1 = y1[x1[:,i]<=threshold[i]]\n",
    "    x1 = x1[x1[:,i]<=threshold[i]]\n",
    "print('{} % of the data was removed'.format(int(100*(1-len(x1)/len(x)))))"
   ]
  },
  {
   "cell_type": "code",
   "execution_count": 38,
   "metadata": {},
   "outputs": [],
   "source": [
    "x_train, x_test, y_train, y_test = split_data(x1, y1, ratio=0.8, seed =2)\n",
    "\n",
    "\n",
    "#set to 0 instead of -1\n",
    "y_train[y_train<0]=0\n",
    "y_test[y_test<0]=0\n",
    "y_test = y_test.reshape(-1,1)\n",
    "y_train = y_train.reshape(-1,1)\n",
    "\n",
    "x_train, mean_x, std_x= standardize(x_train)\n",
    "x_test = (x_test-mean_x)/std_x\n",
    "degree=2\n",
    "lambda_=0\n",
    "x_train = build_poly(x_train, degree)\n",
    "x_test = build_poly(x_test, degree)\n",
    "\n",
    "initial_w = np.zeros([x_train.shape[1],1])\n",
    "\n",
    "w, loss = stochastic_gradient_descent(y_train, x_train, initial_w, batch_size=10, max_iters=5000, gamma=0.0001,\\\n",
    "                                      lambda_1=0, lambda_2=0, compute_gradient=grad_logistic, compute_loss = compute_logi_loss)"
   ]
  },
  {
   "cell_type": "code",
   "execution_count": 37,
   "metadata": {},
   "outputs": [
    {
     "name": "stdout",
     "output_type": "stream",
     "text": [
      "thre: 0.0, accuracy 0.3312210099954269\n",
      "thre: 0.1, accuracy 0.34271901744299993\n",
      "thre: 0.2, accuracy 0.37046231571612115\n",
      "thre: 0.3, accuracy 0.5165174974412579\n",
      "thre: 0.4, accuracy 0.7031205766424947\n",
      "thre: 0.5, accuracy 0.7030116939962109\n",
      "thre: 0.6, accuracy 0.6811916116809303\n",
      "thre: 0.7, accuracy 0.6737658152043727\n",
      "thre: 0.8, accuracy 0.6699549225844385\n",
      "thre: 0.9, accuracy 0.6688007665338298\n",
      "thre: 1.0, accuracy 0.6687789900045731\n"
     ]
    }
   ],
   "source": [
    "#find optimal threshold\n",
    "for i in range(0,11):\n",
    "    z = sigmoid(x_test.dot(w[-1]))\n",
    "    z[z>i/10] = 1\n",
    "    z[z<i/10] = 0\n",
    "    print('thre: {}, accuracy {}'.format(i/10, np.mean(z== y_test)))"
   ]
  },
  {
   "cell_type": "code",
   "execution_count": 10,
   "metadata": {},
   "outputs": [],
   "source": [
    "y_t, x_t, ids = load_csv_data('test.csv')"
   ]
  },
  {
   "cell_type": "code",
   "execution_count": 15,
   "metadata": {},
   "outputs": [],
   "source": [
    "x_t1 = x_t[:,columns_to_keep]\n",
    "x_t1[x_t1==-999]= min_\n",
    "\n",
    "x_t2 = (x_t1-mean_x)/std_x\n",
    "x_t2 = build_poly(x_t2, degree=degree)\n",
    "\n",
    "z = sigmoid(x_t2.dot(w[-1]))\n",
    "z[z>0.5] = 1\n",
    "z[z<=0.5] = -1\n",
    "y_p = z"
   ]
  },
  {
   "cell_type": "code",
   "execution_count": 17,
   "metadata": {},
   "outputs": [],
   "source": [
    "create_csv_submission(ids, y_p, 'prediction_logistic_regression.csv')"
   ]
  },
  {
   "cell_type": "code",
   "execution_count": 13,
   "metadata": {},
   "outputs": [],
   "source": [
    "# 0.76459 on kaggle"
   ]
  },
  {
   "cell_type": "code",
   "execution_count": null,
   "metadata": {},
   "outputs": [],
   "source": []
  },
  {
   "cell_type": "code",
   "execution_count": null,
   "metadata": {},
   "outputs": [],
   "source": []
  }
 ],
 "metadata": {
  "kernelspec": {
   "display_name": "Python 3",
   "language": "python",
   "name": "python3"
  },
  "language_info": {
   "codemirror_mode": {
    "name": "ipython",
    "version": 3
   },
   "file_extension": ".py",
   "mimetype": "text/x-python",
   "name": "python",
   "nbconvert_exporter": "python",
   "pygments_lexer": "ipython3",
   "version": "3.6.4"
  }
 },
 "nbformat": 4,
 "nbformat_minor": 2
}
