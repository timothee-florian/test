{
 "cells": [
  {
   "cell_type": "code",
   "execution_count": 1,
   "metadata": {},
   "outputs": [],
   "source": [
    "import numpy as np\n",
    "import matplotlib.pyplot as plt\n",
    "from proj1_helpers import *\n",
    "from functions import *\n",
    "y, x, ids = load_csv_data('train.csv')"
   ]
  },
  {
   "cell_type": "code",
   "execution_count": 2,
   "metadata": {},
   "outputs": [],
   "source": [
    "columns_to_keep = [0,1,2,3,4,5,6,10,11,12,13,22,24]\n",
    "x1 = x[:, columns_to_keep]\n",
    "y1=y\n",
    "#remove -999 and put them clos to the rest of the data\n",
    "min_ = x1[x1!=-999].min()-1\n",
    "x1[x1<=-998]= min_\n"
   ]
  },
  {
   "cell_type": "code",
   "execution_count": 3,
   "metadata": {},
   "outputs": [
    {
     "name": "stdout",
     "output_type": "stream",
     "text": [
      "8 % of the data was removed\n"
     ]
    }
   ],
   "source": [
    "# remove outliers\n",
    "x1 = x1\n",
    "y1 = y1\n",
    "threshold = []\n",
    "for i in range(x1.shape[1]):\n",
    "    # get value of each column of the 99 percentile\n",
    "    threshold += [np.percentile(x1[:,i], 99)]\n",
    "for i in range(x1.shape[1]):\n",
    "    y1 = y1[x1[:,i]<=threshold[i]]\n",
    "    x1 = x1[x1[:,i]<=threshold[i]]\n",
    "print('{} % of the data was removed'.format(int(100*(1-len(x1)/len(x)))))"
   ]
  },
  {
   "cell_type": "code",
   "execution_count": 9,
   "metadata": {},
   "outputs": [
    {
     "name": "stdout",
     "output_type": "stream",
     "text": [
      "Train error: 0.2727046280377244, \n",
      "test error: 0.27289533698625695,\n",
      "accuracy: 0.8126129657455194\n"
     ]
    }
   ],
   "source": [
    "degree =12\n",
    "x_train, x_test, y_train, y_test = split_data(x1, y1, ratio=0.8, seed =2)\n",
    "x_train, mean_x, std_x= standardize(x_train)\n",
    "\n",
    "x_test = (x_test-mean_x)/std_x\n",
    "x_train = build_poly(x_train, degree=degree)\n",
    "x_test = build_poly(x_test, degree=degree)\n",
    "\n",
    "w = ridge_regression_solu(y_train, x_train, lambda_=10**-7)\n",
    "y_p = predict_labels(w, x_test)\n",
    "accuracy = np.mean(y_p == y_test)\n",
    "\n",
    "error_tr = compute_error(y_train, x_train, w, 'mse')\n",
    "error_te = compute_error(y_test, x_test, w, 'mse')\n",
    "print('Train error: {}, \\ntest error: {},\\naccuracy: {}'.format(error_tr, error_te, accuracy))\n"
   ]
  },
  {
   "cell_type": "markdown",
   "metadata": {},
   "source": [
    "## prediction for kaggle"
   ]
  },
  {
   "cell_type": "code",
   "execution_count": 10,
   "metadata": {},
   "outputs": [],
   "source": [
    "y_t, x_t, ids = load_csv_data('test.csv')"
   ]
  },
  {
   "cell_type": "code",
   "execution_count": 11,
   "metadata": {},
   "outputs": [],
   "source": [
    "x_t1 = x_t[:,columns_to_keep]\n",
    "x_t1[x_t1==-999]= min_\n",
    "x_t2 = (x_t1-mean_x)/std_x\n",
    "x_t2 = build_poly(x_t2, degree=degree)\n",
    "y_p = predict_labels(w, x_t2)"
   ]
  },
  {
   "cell_type": "code",
   "execution_count": 12,
   "metadata": {},
   "outputs": [],
   "source": [
    "create_csv_submission(ids, y_p, 'prediction_ridge_regression.csv')"
   ]
  },
  {
   "cell_type": "code",
   "execution_count": null,
   "metadata": {},
   "outputs": [],
   "source": []
  },
  {
   "cell_type": "code",
   "execution_count": null,
   "metadata": {},
   "outputs": [],
   "source": []
  }
 ],
 "metadata": {
  "kernelspec": {
   "display_name": "Python 3",
   "language": "python",
   "name": "python3"
  },
  "language_info": {
   "codemirror_mode": {
    "name": "ipython",
    "version": 3
   },
   "file_extension": ".py",
   "mimetype": "text/x-python",
   "name": "python",
   "nbconvert_exporter": "python",
   "pygments_lexer": "ipython3",
   "version": "3.6.4"
  }
 },
 "nbformat": 4,
 "nbformat_minor": 2
}
